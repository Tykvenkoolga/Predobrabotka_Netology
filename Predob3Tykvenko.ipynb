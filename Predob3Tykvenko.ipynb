{
 "cells": [
  {
   "cell_type": "code",
   "execution_count": 1,
   "metadata": {},
   "outputs": [],
   "source": [
    "import pandas as pd\n",
    "import numpy as np\n",
    "import statsmodels.api as sm\n",
    "import statsmodels.formula.api as smf\n",
    "import random\n",
    "from sklearn.linear_model import LinearRegression\n",
    "import math\n",
    "from sklearn.preprocessing import StandardScaler, normalize, MinMaxScaler\n",
    "from sklearn.model_selection import train_test_split\n",
    "import sklearn"
   ]
  },
  {
   "cell_type": "code",
   "execution_count": 4,
   "metadata": {},
   "outputs": [],
   "source": [
    "import os\n",
    "import urllib\n",
    "import shutil\n",
    "\n",
    "def download_file(url, dir_path=\"data\"):\n",
    "    if not os.path.exists(dir_path):\n",
    "        os.makedirs(dir_path)\n",
    "        \n",
    "    file_name = os.path.split(url)[-1]\n",
    "    file_path = os.path.join(dir_path, file_name)\n",
    "    \n",
    "    with urllib.request.urlopen(url) as response, open(file_path, 'wb') as out_file:\n",
    "        shutil.copyfileobj(response, out_file)\n",
    "        \n",
    "    return file_path"
   ]
  },
  {
   "cell_type": "code",
   "execution_count": 5,
   "metadata": {},
   "outputs": [
    {
     "data": {
      "text/html": [
       "<div>\n",
       "<style scoped>\n",
       "    .dataframe tbody tr th:only-of-type {\n",
       "        vertical-align: middle;\n",
       "    }\n",
       "\n",
       "    .dataframe tbody tr th {\n",
       "        vertical-align: top;\n",
       "    }\n",
       "\n",
       "    .dataframe thead th {\n",
       "        text-align: right;\n",
       "    }\n",
       "</style>\n",
       "<table border=\"1\" class=\"dataframe\">\n",
       "  <thead>\n",
       "    <tr style=\"text-align: right;\">\n",
       "      <th></th>\n",
       "      <th>TV</th>\n",
       "      <th>radio</th>\n",
       "      <th>newspaper</th>\n",
       "      <th>sales</th>\n",
       "    </tr>\n",
       "  </thead>\n",
       "  <tbody>\n",
       "    <tr>\n",
       "      <th>0</th>\n",
       "      <td>230.1</td>\n",
       "      <td>37.8</td>\n",
       "      <td>69.2</td>\n",
       "      <td>22.1</td>\n",
       "    </tr>\n",
       "    <tr>\n",
       "      <th>1</th>\n",
       "      <td>44.5</td>\n",
       "      <td>39.3</td>\n",
       "      <td>45.1</td>\n",
       "      <td>10.4</td>\n",
       "    </tr>\n",
       "    <tr>\n",
       "      <th>2</th>\n",
       "      <td>17.2</td>\n",
       "      <td>45.9</td>\n",
       "      <td>69.3</td>\n",
       "      <td>9.3</td>\n",
       "    </tr>\n",
       "    <tr>\n",
       "      <th>3</th>\n",
       "      <td>151.5</td>\n",
       "      <td>41.3</td>\n",
       "      <td>58.5</td>\n",
       "      <td>18.5</td>\n",
       "    </tr>\n",
       "    <tr>\n",
       "      <th>4</th>\n",
       "      <td>180.8</td>\n",
       "      <td>10.8</td>\n",
       "      <td>58.4</td>\n",
       "      <td>12.9</td>\n",
       "    </tr>\n",
       "  </tbody>\n",
       "</table>\n",
       "</div>"
      ],
      "text/plain": [
       "      TV  radio  newspaper  sales\n",
       "0  230.1   37.8       69.2   22.1\n",
       "1   44.5   39.3       45.1   10.4\n",
       "2   17.2   45.9       69.3    9.3\n",
       "3  151.5   41.3       58.5   18.5\n",
       "4  180.8   10.8       58.4   12.9"
      ]
     },
     "execution_count": 5,
     "metadata": {},
     "output_type": "execute_result"
    }
   ],
   "source": [
    "download_file(\"http://www-bcf.usc.edu/~gareth/ISL/Advertising.csv\")\n",
    "df_rek = pd.read_csv('data/Advertising.csv', usecols=[1,2,3,4])\n",
    "df_rek.head()"
   ]
  },
  {
   "cell_type": "code",
   "execution_count": 6,
   "metadata": {},
   "outputs": [
    {
     "data": {
      "text/html": [
       "<div>\n",
       "<style scoped>\n",
       "    .dataframe tbody tr th:only-of-type {\n",
       "        vertical-align: middle;\n",
       "    }\n",
       "\n",
       "    .dataframe tbody tr th {\n",
       "        vertical-align: top;\n",
       "    }\n",
       "\n",
       "    .dataframe thead th {\n",
       "        text-align: right;\n",
       "    }\n",
       "</style>\n",
       "<table border=\"1\" class=\"dataframe\">\n",
       "  <thead>\n",
       "    <tr style=\"text-align: right;\">\n",
       "      <th></th>\n",
       "      <th>TV</th>\n",
       "      <th>radio</th>\n",
       "      <th>newspaper</th>\n",
       "      <th>sales</th>\n",
       "      <th>log_tv</th>\n",
       "    </tr>\n",
       "  </thead>\n",
       "  <tbody>\n",
       "    <tr>\n",
       "      <th>0</th>\n",
       "      <td>230.1</td>\n",
       "      <td>37.8</td>\n",
       "      <td>69.2</td>\n",
       "      <td>22.1</td>\n",
       "      <td>8.805756</td>\n",
       "    </tr>\n",
       "    <tr>\n",
       "      <th>1</th>\n",
       "      <td>44.5</td>\n",
       "      <td>39.3</td>\n",
       "      <td>45.1</td>\n",
       "      <td>10.4</td>\n",
       "      <td>4.563983</td>\n",
       "    </tr>\n",
       "    <tr>\n",
       "      <th>2</th>\n",
       "      <td>17.2</td>\n",
       "      <td>45.9</td>\n",
       "      <td>69.3</td>\n",
       "      <td>9.3</td>\n",
       "      <td>3.120408</td>\n",
       "    </tr>\n",
       "    <tr>\n",
       "      <th>3</th>\n",
       "      <td>151.5</td>\n",
       "      <td>41.3</td>\n",
       "      <td>58.5</td>\n",
       "      <td>18.5</td>\n",
       "      <td>7.450151</td>\n",
       "    </tr>\n",
       "    <tr>\n",
       "      <th>4</th>\n",
       "      <td>180.8</td>\n",
       "      <td>10.8</td>\n",
       "      <td>58.4</td>\n",
       "      <td>12.9</td>\n",
       "      <td>7.996121</td>\n",
       "    </tr>\n",
       "  </tbody>\n",
       "</table>\n",
       "</div>"
      ],
      "text/plain": [
       "      TV  radio  newspaper  sales    log_tv\n",
       "0  230.1   37.8       69.2   22.1  8.805756\n",
       "1   44.5   39.3       45.1   10.4  4.563983\n",
       "2   17.2   45.9       69.3    9.3  3.120408\n",
       "3  151.5   41.3       58.5   18.5  7.450151\n",
       "4  180.8   10.8       58.4   12.9  7.996121"
      ]
     },
     "execution_count": 6,
     "metadata": {},
     "output_type": "execute_result"
    }
   ],
   "source": [
    "df_rek['log_tv'] = df_rek.TV.apply(lambda x: math.pow(x, 0.4))\n",
    "df_rek.head()"
   ]
  },
  {
   "cell_type": "markdown",
   "metadata": {},
   "source": [
    "# Разделение дата сета на трейн и тест, в соотношении 50:50"
   ]
  },
  {
   "cell_type": "code",
   "execution_count": 33,
   "metadata": {},
   "outputs": [
    {
     "name": "stdout",
     "output_type": "stream",
     "text": [
      "Total transactions in train dataset:  100\n",
      "Total transactions in test dataset:  100\n"
     ]
    }
   ],
   "source": [
    "rek_train, rek_test = train_test_split(df_rek, test_size=0.5, random_state=42, shuffle=True)\n",
    "\n",
    "print(\"Total transactions in train dataset: \", len(rek_train))\n",
    "print(\"Total transactions in test dataset: \", len(rek_test))"
   ]
  },
  {
   "cell_type": "markdown",
   "metadata": {},
   "source": [
    "### Модель: sales ~ log_tv + radio"
   ]
  },
  {
   "cell_type": "code",
   "execution_count": 56,
   "metadata": {
    "scrolled": true
   },
   "outputs": [
    {
     "name": "stdout",
     "output_type": "stream",
     "text": [
      "RSS_train: 200.2349956038338\n",
      "RSE_train: 0.1458808405554922\n",
      "R^2_train: 0.9273049082016976\n"
     ]
    }
   ],
   "source": [
    "three_x_lm = smf.ols('sales ~ log_tv + radio', rek_train).fit()\n",
    "print(\"RSS_train:\", np.sum(three_x_lm.resid ** 2))\n",
    "print(\"RSE_train:\", np.sqrt(np.sum(three_x_lm.resid ** 2)) / (rek_train.shape[0] - 2 - 1))\n",
    "print(\"R^2_train:\", three_x_lm.rsquared)"
   ]
  },
  {
   "cell_type": "code",
   "execution_count": 39,
   "metadata": {},
   "outputs": [],
   "source": [
    "y_pred_test = three_x_lm.predict(rek_test[['log_tv', 'radio']])\n",
    "y_test = rek_test['sales']"
   ]
  },
  {
   "cell_type": "code",
   "execution_count": 40,
   "metadata": {},
   "outputs": [
    {
     "name": "stdout",
     "output_type": "stream",
     "text": [
      "RSS_test: 180.2527057870789\n",
      "RSE_test: 1.363185723734138\n",
      "R^2_test: 0.9310741259261295\n"
     ]
    }
   ],
   "source": [
    "TSS_test = np.sum((y_test - y_test.mean())**2)\n",
    "RSS_test = np.sum((y_test - y_pred_test)**2)\n",
    "RSE_test = np.sqrt(RSS_test / (rek_test.shape[0] - 2 - 1))\n",
    "R_2_test = (1 - RSS_test/TSS_test)\n",
    "R_2_test2 = sklearn.metrics.r2_score(y_test, y_pred_test)\n",
    "\n",
    "print(\"RSS_test:\", RSS_test)\n",
    "print(\"RSE_test:\", RSE_test)\n",
    "print(\"R^2_test:\", R_2_test2)"
   ]
  },
  {
   "cell_type": "markdown",
   "metadata": {},
   "source": [
    "### Модель: sales ~ TV + radio"
   ]
  },
  {
   "cell_type": "code",
   "execution_count": 55,
   "metadata": {
    "scrolled": true
   },
   "outputs": [
    {
     "name": "stdout",
     "output_type": "stream",
     "text": [
      "RSS_train: 269.7967207754174\n",
      "RSE_train: 0.16933494815087202\n",
      "R^2_train: 0.9020506014720117\n"
     ]
    }
   ],
   "source": [
    "three_x_lm = smf.ols('sales ~ TV + radio', rek_train).fit()\n",
    "print(\"RSS_train:\", np.sum(three_x_lm.resid ** 2))\n",
    "print(\"RSE_train:\", np.sqrt(np.sum(three_x_lm.resid ** 2)) / (rek_train.shape[0] - 2 - 1))\n",
    "print(\"R^2_train:\", three_x_lm.rsquared)"
   ]
  },
  {
   "cell_type": "code",
   "execution_count": 45,
   "metadata": {},
   "outputs": [],
   "source": [
    "y_pred_test = three_x_lm.predict(rek_test[['TV', 'radio']])\n",
    "y_test = rek_test['sales']"
   ]
  },
  {
   "cell_type": "code",
   "execution_count": 46,
   "metadata": {
    "scrolled": true
   },
   "outputs": [
    {
     "name": "stdout",
     "output_type": "stream",
     "text": [
      "RSS_test: 306.90663871598935\n",
      "RSE_test: 1.7787596707099642\n",
      "R^2_test: 0.8826436017134699\n"
     ]
    }
   ],
   "source": [
    "TSS_test = np.sum((y_test - y_test.mean())**2)\n",
    "RSS_test = np.sum((y_test - y_pred_test)**2)\n",
    "RSE_test = np.sqrt(RSS_test / (rek_test.shape[0] - 2 - 1))\n",
    "R_2_test = (1 - RSS_test/TSS_test)\n",
    "R_2_test2 = sklearn.metrics.r2_score(y_test, y_pred_test)\n",
    "\n",
    "print(\"RSS_test:\", RSS_test)\n",
    "print(\"RSE_test:\", RSE_test)\n",
    "print(\"R^2_test:\", R_2_test2)"
   ]
  },
  {
   "cell_type": "markdown",
   "metadata": {},
   "source": [
    "### Модель: sales ~ TV + radio + newspaper"
   ]
  },
  {
   "cell_type": "code",
   "execution_count": 49,
   "metadata": {},
   "outputs": [
    {
     "name": "stdout",
     "output_type": "stream",
     "text": [
      "RSS: 263.70728347629023\n",
      "RSE: 0.16915694356944733\n",
      "R^2: 0.9042613648908893\n"
     ]
    }
   ],
   "source": [
    "three_x_lm = smf.ols('sales ~ TV + radio + newspaper', rek_train).fit()\n",
    "print(\"RSS_train:\", np.sum(three_x_lm.resid ** 2))\n",
    "print(\"RSE_train:\", np.sqrt(np.sum(three_x_lm.resid ** 2)) / (rek_train.shape[0] - 3 - 1))\n",
    "print(\"R^2_train:\", three_x_lm.rsquared)"
   ]
  },
  {
   "cell_type": "code",
   "execution_count": 53,
   "metadata": {},
   "outputs": [],
   "source": [
    "y_pred_test = three_x_lm.predict(rek_test[['TV', 'radio', 'newspaper']])\n",
    "y_test = rek_test['sales']"
   ]
  },
  {
   "cell_type": "code",
   "execution_count": 54,
   "metadata": {
    "scrolled": true
   },
   "outputs": [
    {
     "name": "stdout",
     "output_type": "stream",
     "text": [
      "RSS_test: 334.4786637735296\n",
      "RSE_test: 1.8665885319590212\n",
      "R^2_test: 0.872100481604513\n"
     ]
    }
   ],
   "source": [
    "TSS_test = np.sum((y_test - y_test.mean())**2)\n",
    "RSS_test = np.sum((y_test - y_pred_test)**2)\n",
    "RSE_test = np.sqrt(RSS_test / (rek_test.shape[0] - 3 - 1))\n",
    "R_2_test = (1 - RSS_test/TSS_test)\n",
    "R_2_test2 = sklearn.metrics.r2_score(y_test, y_pred_test)\n",
    "\n",
    "print(\"RSS_test:\", RSS_test)\n",
    "print(\"RSE_test:\", RSE_test)\n",
    "print(\"R^2_test:\", R_2_test2)"
   ]
  },
  {
   "cell_type": "markdown",
   "metadata": {},
   "source": [
    "# Разделение дата сета на трейн и тест, в соотношении 70:30"
   ]
  },
  {
   "cell_type": "code",
   "execution_count": 7,
   "metadata": {},
   "outputs": [
    {
     "name": "stdout",
     "output_type": "stream",
     "text": [
      "Total transactions in train dataset:  140\n",
      "Total transactions in test dataset:  60\n"
     ]
    }
   ],
   "source": [
    "rek_train1, rek_test1 = train_test_split(df_rek, test_size=0.3, random_state=42, shuffle=True)\n",
    "\n",
    "print(\"Total transactions in train dataset: \", len(rek_train1))\n",
    "print(\"Total transactions in test dataset: \", len(rek_test1))"
   ]
  },
  {
   "cell_type": "markdown",
   "metadata": {},
   "source": [
    "### Модель: sales ~ log_tv + radio"
   ]
  },
  {
   "cell_type": "code",
   "execution_count": 8,
   "metadata": {},
   "outputs": [],
   "source": [
    "y = df_rek['sales']\n",
    "df_1 = df_rek.drop(['TV','sales','newspaper'], axis=1)"
   ]
  },
  {
   "cell_type": "code",
   "execution_count": 9,
   "metadata": {},
   "outputs": [],
   "source": [
    "x_train, x_test, y_train, y_test = train_test_split(df_1, y, test_size=0.3, shuffle=True, random_state=42)\n",
    "\n",
    "lm = LinearRegression()\n",
    "model = lm.fit(x_train, y_train)"
   ]
  },
  {
   "cell_type": "code",
   "execution_count": 11,
   "metadata": {},
   "outputs": [
    {
     "name": "stdout",
     "output_type": "stream",
     "text": [
      "R^2 score for train: 0.9301954868019677\n",
      "R^2 score for test: 0.9271446043449548\n"
     ]
    }
   ],
   "source": [
    "print('R^2 score for train:', model.score(x_train, y_train))\n",
    "print('R^2 score for test:', model.score(x_test, y_test))"
   ]
  },
  {
   "cell_type": "markdown",
   "metadata": {},
   "source": [
    "### Модель: sales ~ TV + radio"
   ]
  },
  {
   "cell_type": "code",
   "execution_count": 12,
   "metadata": {},
   "outputs": [],
   "source": [
    "y = df_rek['sales']\n",
    "df_2 = df_rek.drop(['log_tv','sales','newspaper'], axis=1)"
   ]
  },
  {
   "cell_type": "code",
   "execution_count": 13,
   "metadata": {},
   "outputs": [],
   "source": [
    "x_train, x_test, y_train, y_test = train_test_split(df_2, y, test_size=0.3, shuffle=True, random_state=42)\n",
    "\n",
    "lm = LinearRegression()\n",
    "model = lm.fit(x_train, y_train)"
   ]
  },
  {
   "cell_type": "code",
   "execution_count": 14,
   "metadata": {
    "scrolled": true
   },
   "outputs": [
    {
     "name": "stdout",
     "output_type": "stream",
     "text": [
      "R^2 score for train: 0.9048377867980043\n",
      "R^2 score for test: 0.8656253548947075\n"
     ]
    }
   ],
   "source": [
    "print('R^2 score for train:', model.score(x_train, y_train))\n",
    "print('R^2 score for test:', model.score(x_test, y_test))"
   ]
  },
  {
   "cell_type": "markdown",
   "metadata": {},
   "source": [
    "### Модель: sales ~ TV + radio + newspaper"
   ]
  },
  {
   "cell_type": "code",
   "execution_count": 15,
   "metadata": {},
   "outputs": [],
   "source": [
    "y = df_rek['sales']\n",
    "df_3 = df_rek.drop(['log_tv','sales'], axis=1)"
   ]
  },
  {
   "cell_type": "code",
   "execution_count": 16,
   "metadata": {},
   "outputs": [],
   "source": [
    "x_train, x_test, y_train, y_test = train_test_split(df_3, y, test_size=0.3, shuffle=True, random_state=42)\n",
    "\n",
    "lm = LinearRegression()\n",
    "model = lm.fit(x_train, y_train)"
   ]
  },
  {
   "cell_type": "code",
   "execution_count": 17,
   "metadata": {
    "scrolled": true
   },
   "outputs": [
    {
     "name": "stdout",
     "output_type": "stream",
     "text": [
      "R^2 score for train: 0.9055159502227753\n",
      "R^2 score for test: 0.8609466508230366\n"
     ]
    }
   ],
   "source": [
    "print('R^2 score for train:', model.score(x_train, y_train))\n",
    "print('R^2 score for test:', model.score(x_test, y_test))"
   ]
  },
  {
   "cell_type": "markdown",
   "metadata": {},
   "source": [
    "# Разделение дата сета на трейн и тест, в соотношении 80:20"
   ]
  },
  {
   "cell_type": "markdown",
   "metadata": {},
   "source": [
    "### Модель: sales ~ log_tv + radio"
   ]
  },
  {
   "cell_type": "code",
   "execution_count": 18,
   "metadata": {},
   "outputs": [],
   "source": [
    "y = df_rek['sales']\n",
    "df_1 = df_rek.drop(['TV','sales','newspaper'], axis=1)"
   ]
  },
  {
   "cell_type": "code",
   "execution_count": 19,
   "metadata": {},
   "outputs": [],
   "source": [
    "x_train, x_test, y_train, y_test = train_test_split(df_1, y, test_size=0.2, shuffle=True, random_state=42)\n",
    "#и тут до меня дошло, что разделение заранее можно не делать, ибо предыдущая строка это делает\n",
    "lm = LinearRegression()\n",
    "model = lm.fit(x_train, y_train)"
   ]
  },
  {
   "cell_type": "code",
   "execution_count": 20,
   "metadata": {
    "scrolled": true
   },
   "outputs": [
    {
     "name": "stdout",
     "output_type": "stream",
     "text": [
      "R^2 score for train: 0.9276759564687794\n",
      "R^2 score for test: 0.9425639093506952\n"
     ]
    }
   ],
   "source": [
    "print('R^2 score for train:', model.score(x_train, y_train))\n",
    "print('R^2 score for test:', model.score(x_test, y_test))"
   ]
  },
  {
   "cell_type": "markdown",
   "metadata": {},
   "source": [
    "### Модель: sales ~ TV + radio"
   ]
  },
  {
   "cell_type": "code",
   "execution_count": 21,
   "metadata": {},
   "outputs": [],
   "source": [
    "y = df_rek['sales']\n",
    "df_2 = df_rek.drop(['log_tv','sales','newspaper'], axis=1)"
   ]
  },
  {
   "cell_type": "code",
   "execution_count": 25,
   "metadata": {},
   "outputs": [],
   "source": [
    "x_train, x_test, y_train, y_test = train_test_split(df_2, y, test_size=0.2, shuffle=True, random_state=42)\n",
    "\n",
    "lm = LinearRegression()\n",
    "model = lm.fit(x_train, y_train)"
   ]
  },
  {
   "cell_type": "code",
   "execution_count": 26,
   "metadata": {
    "scrolled": true
   },
   "outputs": [
    {
     "name": "stdout",
     "output_type": "stream",
     "text": [
      "R^2 score for train: 0.8955982149747163\n",
      "R^2 score for test: 0.9005833101920355\n"
     ]
    }
   ],
   "source": [
    "print('R^2 score for train:', model.score(x_train, y_train))\n",
    "print('R^2 score for test:', model.score(x_test, y_test))"
   ]
  },
  {
   "cell_type": "markdown",
   "metadata": {},
   "source": [
    "### Модель: sales ~ TV + radio + newspaper"
   ]
  },
  {
   "cell_type": "code",
   "execution_count": 27,
   "metadata": {},
   "outputs": [],
   "source": [
    "y = df_rek['sales']\n",
    "df_3 = df_rek.drop(['log_tv','sales'], axis=1)"
   ]
  },
  {
   "cell_type": "code",
   "execution_count": 28,
   "metadata": {},
   "outputs": [],
   "source": [
    "x_train, x_test, y_train, y_test = train_test_split(df_3, y, test_size=0.2, shuffle=True, random_state=42)\n",
    " \n",
    "lm = LinearRegression()\n",
    "model = lm.fit(x_train, y_train)"
   ]
  },
  {
   "cell_type": "code",
   "execution_count": 29,
   "metadata": {},
   "outputs": [
    {
     "name": "stdout",
     "output_type": "stream",
     "text": [
      "R^2 score for train: 0.8957008271017818\n",
      "R^2 score for test: 0.899438024100912\n"
     ]
    }
   ],
   "source": [
    "print('R^2 score for train:', model.score(x_train, y_train))\n",
    "print('R^2 score for test:', model.score(x_test, y_test))"
   ]
  }
 ],
 "metadata": {
  "kernelspec": {
   "display_name": "Python 3",
   "language": "python",
   "name": "python3"
  },
  "language_info": {
   "codemirror_mode": {
    "name": "ipython",
    "version": 3
   },
   "file_extension": ".py",
   "mimetype": "text/x-python",
   "name": "python",
   "nbconvert_exporter": "python",
   "pygments_lexer": "ipython3",
   "version": "3.7.1"
  }
 },
 "nbformat": 4,
 "nbformat_minor": 2
}
